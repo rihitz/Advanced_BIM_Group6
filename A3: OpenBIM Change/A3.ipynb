{
 "cells": [
  {
   "cell_type": "markdown",
   "id": "821a560b-697c-43c8-ab1a-bc998cf83743",
   "metadata": {},
   "source": [
    "# 41934 Advanced BIM - A3\n",
    "#### **Authors**:\n",
    "Rihards Zamoidiks, s186415  \n",
    "Eliza Anna Grinberga, s223262\n"
   ]
  },
  {
   "cell_type": "markdown",
   "id": "aae9c1ee-daf5-46ab-8bf7-edbaee22a7b3",
   "metadata": {},
   "source": [
    "Welcome to this commentary notebook!  \n",
    "Here, we provide a more detailed narrative to accompany the script developed for our tool in A3, enhancing your learning experience as you explore the tool's functionality and implementation.  \n",
    "\n",
    "**NOTE:** This script has minor, non-operational changes compared to the original Python script, to ensure compatibility with Jupyter Notebooks."
   ]
  },
  {
   "cell_type": "markdown",
   "id": "90e20c81-5219-4eee-b199-b7b73bdbb2ac",
   "metadata": {},
   "source": [
    "As before, we start by importing all the necessary Python libraries essential for the operation of this tool:"
   ]
  },
  {
   "cell_type": "code",
   "execution_count": 9,
   "id": "b792145f-d22b-48c8-ae65-5e7468ffa548",
   "metadata": {
    "tags": []
   },
   "outputs": [],
   "source": [
    "from pathlib import Path\n",
    "import ifcopenshell\n",
    "import ifcopenshell.util.element\n",
    "import ifcopenshell.api\n",
    "import sys"
   ]
  },
  {
   "cell_type": "markdown",
   "id": "f19da898-385b-4c36-a334-d1e6552b5bef",
   "metadata": {},
   "source": [
    "We proceed by establishing functions to manage some of the more repetitive tasks required by the tool."
   ]
  },
  {
   "cell_type": "markdown",
   "id": "f676dfca-da19-47f8-be5c-21ca28706fb5",
   "metadata": {},
   "source": [
    "The very first one, named `loadFile`, an exact copy of the one employed in A2, is responsible for loading an IFC file. When you run this function, it will ask you to input the name of the IFC file you want to load. If you press Enter without typing anything, it will default to a file named 'LLYN - STRU.ifc', which has been commonly used during this course.\n",
    "\n",
    "**Note:** To ensure successful loading, place the IFC file in the designated `model` folder. \n",
    "\n",
    "The function checks if the specified file exists. If it does, it loads the file and returns two pieces of information: the loaded model and its name. If the file is not found, it gives an error message.\n",
    "\n",
    "Here's how the function looks in Python:"
   ]
  },
  {
   "cell_type": "code",
   "execution_count": 10,
   "id": "e4c8d7c9-7fd9-49b5-972d-0df3290c4a8b",
   "metadata": {
    "tags": []
   },
   "outputs": [],
   "source": [
    "def loadFile():\n",
    "    # Specify the name of the IFC model\n",
    "    modelname = input(\"Enter the IFC model name (or press Enter for default 'LLYN - STRU'): \")\n",
    "    \n",
    "    # Set a default value if the user didn't provide input\n",
    "    if not modelname:\n",
    "        modelname = 'LLYN - STRU'\n",
    "    \n",
    "    try:\n",
    "        dir_path = Path.cwd()\n",
    "        model_url = Path.joinpath(dir_path, 'model', modelname).with_suffix('.ifc')\n",
    "        model = ifcopenshell.open(model_url)\n",
    "    except OSError:\n",
    "        try:\n",
    "            # If file not found, bpy import will produce an error, if script is run outside of Blender\n",
    "            import bpy\n",
    "            model_url = Path.joinpath(Path(bpy.context.space_data.text.filepath).parent, 'model', modelname).with_suffix('.ifc')\n",
    "            model = ifcopenshell.open(model_url)\n",
    "        except OSError:\n",
    "            print(f'ERROR: please check your model folder : {model_url} does not exist')\n",
    "    \n",
    "    # Load the IFC model\n",
    "    model = ifcopenshell.open(model_url)\n",
    "    \n",
    "    return model, modelname"
   ]
  },
  {
   "cell_type": "markdown",
   "id": "aeb97d0a-32ff-4d23-b7ce-bf5360ecf68b",
   "metadata": {},
   "source": [
    "This function, `createMaterialProp`, initializes a property list and prompts the user to input two values, specifically for material type and strength class. It ensures the user provides both inputs before returning the list of properties."
   ]
  },
  {
   "cell_type": "code",
   "execution_count": 11,
   "id": "fc0d16d7-d182-4466-b885-ba489bd19fd2",
   "metadata": {
    "tags": []
   },
   "outputs": [],
   "source": [
    "def createMaterialProp():\n",
    "    # Initialize a property list\n",
    "    prop = []\n",
    "\n",
    "    while len(prop) < 2:\n",
    "        if len(prop) == 0:\n",
    "            user_input = input(\"\\nEnter Material: \")\n",
    "        else:\n",
    "            user_input = input(\"\\nEnter Strength class: \")\n",
    "\n",
    "        prop.append(user_input)\n",
    "    \n",
    "    return prop"
   ]
  },
  {
   "cell_type": "markdown",
   "id": "a4c34240-23eb-4c3f-aedf-fed8ef254cff",
   "metadata": {},
   "source": [
    "The `assignProperty` function ensures the assignment of a newly created PropertySet to specific types of structural elements within an IFC model. The function begins by calling `createMaterialProp()` to gather user input as covered above. Subsequently, it retrieves the IFC elements of the specified type, and for each element, it adds the new PropertySet and populates it with the provided material properties. Finally, it notifies the user that the material properties have been successfully added to the specified elements."
   ]
  },
  {
   "cell_type": "code",
   "execution_count": 12,
   "id": "33ddfc7d-2b7a-4833-a617-7ec28b0662ab",
   "metadata": {
    "tags": []
   },
   "outputs": [],
   "source": [
    "def assignProperty(ifc_file, element, propName):\n",
    "    \n",
    "    propValue = createMaterialProp()\n",
    "    \n",
    "    # Retrieve IFC elements of the specified type\n",
    "    str_elements = model.by_type(str(element))\n",
    "    \n",
    "    # Check if the IFC model contains specified structural elements\n",
    "    if len(str_elements) != 0:\n",
    "       # Iterate through elements of the specified type\n",
    "        for str_element in str_elements:\n",
    "            pset = ifcopenshell.api.run(\"pset.add_pset\", ifc_file, product=str_element, name=propName)\n",
    "            ifcopenshell.api.run(\"pset.edit_pset\", ifc_file, pset=pset, properties={\"Material\": propValue[0], \"Strength class\": propValue[1]})\n",
    "    \n",
    "    print('Material property -', propValue[0], \":\", propValue[1], \"has been added to all \", element, \"elements.\")"
   ]
  },
  {
   "cell_type": "markdown",
   "id": "f5d3f3ca-e42d-4820-9ddd-900180ab492a",
   "metadata": {},
   "source": [
    "The `saveFile` function facilitates the process of saving modifications made to the IFC model. It takes the modified model and the original model name as parameters, constructs a new file path for the modified model, saves the file to the specified path and then notifies the user that changes have been saved."
   ]
  },
  {
   "cell_type": "code",
   "execution_count": 13,
   "id": "42e04b68-bc6d-4fee-96dc-2afc7f7eac17",
   "metadata": {
    "tags": []
   },
   "outputs": [],
   "source": [
    "def saveFile(model, modelname):\n",
    "    path = './output/' + \"modified_\" + modelname + '.ifc'\n",
    "    model.write(path)\n",
    "    print(\"\\nSaving changes to \", path, \"and exiting the menu.\")"
   ]
  },
  {
   "cell_type": "markdown",
   "id": "bf28975b-9ee8-46bd-bd85-75daeeedc556",
   "metadata": {},
   "source": [
    "With the essential functions now in place, we turn to the main portion of the script. This primarily involves a single while loop, complemented by the initial file reading process."
   ]
  },
  {
   "cell_type": "markdown",
   "id": "4204e581-4ba2-4069-9bc8-dad8082c0b49",
   "metadata": {},
   "source": [
    "This following part of the script establishes a user interface through a while loop, providing a menu for selecting different types of structural elements within an IFC file. The user can choose between IfcColumn, IfcWall, IfcBeam, IfcSlab and the option to exit the script. Upon selecting a type, the `assignProperty` function is called to manage the assignment of material properties to the chosen elements. The loop then prompts the user for repetition or exit, ensuring a user-friendly and interactive experience. Additionally, it saves the modified IFC file when the user chooses to exit the script."
   ]
  },
  {
   "cell_type": "code",
   "execution_count": 14,
   "id": "3a7e0d22-a97a-43eb-bd30-20afc04b72e1",
   "metadata": {
    "tags": []
   },
   "outputs": [
    {
     "name": "stdin",
     "output_type": "stream",
     "text": [
      "Enter the IFC model name (or press Enter for default 'LLYN - STRU'):  LLYN - STRU\n"
     ]
    },
    {
     "name": "stdout",
     "output_type": "stream",
     "text": [
      "\n",
      "Select an option:\n",
      "1. IfcColumn\n",
      "2. IfcWall\n",
      "3. IfcBeam\n",
      "4. IfcSlab\n",
      "5. Exit\n"
     ]
    },
    {
     "name": "stdin",
     "output_type": "stream",
     "text": [
      "\n",
      "Enter your choice:  1\n"
     ]
    },
    {
     "name": "stdout",
     "output_type": "stream",
     "text": [
      "You selected  IfcColumn\n"
     ]
    },
    {
     "name": "stdin",
     "output_type": "stream",
     "text": [
      "\n",
      "Enter Material:  Concrete\n",
      "\n",
      "Enter Strength class:  C40/45\n"
     ]
    },
    {
     "name": "stdout",
     "output_type": "stream",
     "text": [
      "Material property - Concrete : C40/45 has been added to all  IfcColumn elements.\n"
     ]
    },
    {
     "name": "stdin",
     "output_type": "stream",
     "text": [
      "\n",
      "Do you want to repeat the script? (yes/no):  no\n"
     ]
    },
    {
     "name": "stdout",
     "output_type": "stream",
     "text": [
      "\n",
      "Saving changes to  ./output/modified_LLYN - STRU.ifc and exiting the menu.\n"
     ]
    }
   ],
   "source": [
    "# Load the IFC model\n",
    "model, modelname = loadFile()  \n",
    "\n",
    "# Initialize operation flag\n",
    "flag = True\n",
    "\n",
    "while flag:\n",
    "    # Display the menu\n",
    "    print(\"\\nSelect an option:\")\n",
    "    print(\"1. IfcColumn\")\n",
    "    print(\"2. IfcWall\")\n",
    "    print(\"3. IfcBeam\")\n",
    "    print(\"4. IfcSlab\")\n",
    "    print(\"5. Exit\")\n",
    "\n",
    "    # Get user input\n",
    "    choice = input(\"\\nEnter your choice: \")\n",
    "\n",
    "    if choice == \"1\":\n",
    "        \n",
    "        element = \"IfcColumn\"\n",
    "        print(\"You selected \", element)\n",
    "        assignProperty(model, element, \"Pset_MaterialStructural\")\n",
    "            \n",
    "    elif choice == \"2\":\n",
    "        \n",
    "        element = \"IfcWall\"\n",
    "        print(\"You selected \", element)\n",
    "        assignProperty(model, element, \"Pset_MaterialStructural\")\n",
    "        \n",
    "    elif choice == \"3\":\n",
    "        \n",
    "        element = \"IfcBeam\"\n",
    "        print(\"You selected \", element)\n",
    "        assignProperty(model, element, \"Pset_MaterialStructural\")\n",
    "        \n",
    "    elif choice == \"4\":\n",
    "        \n",
    "        element = \"IfcSlab\"\n",
    "        print(\"You selected \", element)\n",
    "        assignProperty(model, element, \"Pset_MaterialStructural\")\n",
    "        \n",
    "    elif choice == \"5\":\n",
    "         saveFile(model, modelname)\n",
    "         break\n",
    "    else:\n",
    "        print(\"\\nInvalid choice. Please select a valid option.\")\n",
    " \n",
    "    while flag:\n",
    "        repeat = input(\"\\nDo you want to repeat the script? (yes/no): \")\n",
    "        if repeat.lower() == \"yes\":\n",
    "            break  # Break out of the inner loop to repeat the entire script\n",
    "        elif repeat.lower() == \"no\":\n",
    "            saveFile(model, modelname)\n",
    "            flag = False\n",
    "        else:\n",
    "            print(\"Invalid input. Please enter 'yes' or 'no'.\")"
   ]
  },
  {
   "cell_type": "code",
   "execution_count": null,
   "id": "e573639d-7687-4d6e-865a-1a828055dc58",
   "metadata": {},
   "outputs": [],
   "source": []
  }
 ],
 "metadata": {
  "kernelspec": {
   "display_name": "Python 3 (ipykernel)",
   "language": "python",
   "name": "python3"
  },
  "language_info": {
   "codemirror_mode": {
    "name": "ipython",
    "version": 3
   },
   "file_extension": ".py",
   "mimetype": "text/x-python",
   "name": "python",
   "nbconvert_exporter": "python",
   "pygments_lexer": "ipython3",
   "version": "3.11.4"
  }
 },
 "nbformat": 4,
 "nbformat_minor": 5
}
