{
 "cells": [
  {
   "cell_type": "markdown",
   "id": "55f81deb-2fe9-49d6-87b6-171588b6f23b",
   "metadata": {},
   "source": [
    "# 41934 Advanced BIM - A2\n",
    "#### **Authors**:\n",
    "Rihards Zamoidiks, s186415  \n",
    "Eliza Anna Grinberga, s223262\n"
   ]
  },
  {
   "cell_type": "markdown",
   "id": "8e075b56-dc62-4c71-83ad-f0d4b12cf427",
   "metadata": {},
   "source": [
    "Welcome to this commentary notebook!  \n",
    "Here, we provide a more detailed narrative to accompany the script developed for our tool in A2, enhancing your learning experience as you explore the tool's functionality and implementation.  \n",
    "\n",
    "**NOTE:** This script has minor, non-operational changes compared to the original Python script, to ensure compatibility with Jupyter Notebooks."
   ]
  },
  {
   "cell_type": "markdown",
   "id": "742af051-9209-4f51-abaa-d2aeeff2217d",
   "metadata": {},
   "source": [
    "To kick things off, let's import all the necessary Python libraries essential for the operation of this tool:"
   ]
  },
  {
   "cell_type": "code",
   "execution_count": 32,
   "id": "dd311e54-8044-4bdb-8b96-19c068c642a9",
   "metadata": {
    "tags": []
   },
   "outputs": [],
   "source": [
    "from pathlib import Path\n",
    "import ifcopenshell  \n",
    "import pandas as pd  \n",
    "import openpyxl"
   ]
  },
  {
   "cell_type": "markdown",
   "id": "b4fc33e9-cd0c-4599-9df1-8a82ab115a5a",
   "metadata": {},
   "source": [
    "In this section of the script, we've defined several functions to handle repetitive tasks.  \n",
    "The first one, named `loadFile`, is responsible for loading an IFC file. When you run this function, it will ask you to input the name of the IFC file you want to load. If you press Enter without typing anything, it will default to a file named 'LLYN - STRU.ifc', which has been commonly used during this course.\n",
    "\n",
    "**Note:** To ensure successful loading, place the IFC file in the designated `model` folder. \n",
    "\n",
    "The function checks if the specified file exists. If it does, it loads the file and returns two pieces of information: the loaded model and its name. If the file is not found, it gives an error message.\n",
    "\n",
    "Here's how the function looks in Python:"
   ]
  },
  {
   "cell_type": "code",
   "execution_count": 34,
   "id": "a7ee3a43-7744-4f7e-b0df-d19d1e68fa05",
   "metadata": {
    "tags": []
   },
   "outputs": [],
   "source": [
    "def loadFile():\n",
    "    # Specify the name of the IFC model\n",
    "    modelname = input(\"Enter the IFC model name (or press Enter for default 'LLYN - STRU'): \")\n",
    "    \n",
    "    # Set a default value if the user didn't provide input\n",
    "    if not modelname:\n",
    "        modelname = 'LLYN - STRU'\n",
    "    \n",
    "    try:\n",
    "        dir_path = Path.cwd()\n",
    "        model_url = Path.joinpath(dir_path, 'model', modelname).with_suffix('.ifc')\n",
    "        model = ifcopenshell.open(model_url)\n",
    "    except OSError:\n",
    "        try:\n",
    "            # If file not found, bpy import will produce an error, if script is run outside of Blender\n",
    "            import bpy\n",
    "            model_url = Path.joinpath(Path(bpy.context.space_data.text.filepath).parent, 'model', modelname).with_suffix('.ifc')\n",
    "            model = ifcopenshell.open(model_url)\n",
    "        except OSError:\n",
    "            print(f'ERROR: please check your model folder : {model_url} does not exist')\n",
    "    \n",
    "    # Load the IFC model\n",
    "    model = ifcopenshell.open(model_url)\n",
    "    \n",
    "    return model, modelname"
   ]
  },
  {
   "cell_type": "markdown",
   "id": "28be58c1-d822-4aa2-86ab-c8f61053628a",
   "metadata": {},
   "source": [
    "The following function, called `quantityTakeOff` extracts relevant quantities, such as volume and area, from load-bearing structural elements in an IFC model. The calculated data is stored in a pandas DataFrame and can be further analyzed for floorwise summaries and total quantities. The function also checks if the provided IFC model contains the specified structural elements. \n",
    "\n",
    "For a more detailed, step-by-step walk through, please refer to the comments embedded within the script."
   ]
  },
  {
   "cell_type": "code",
   "execution_count": 35,
   "id": "ad0acce0-40c0-450e-b287-3e117774326f",
   "metadata": {
    "tags": []
   },
   "outputs": [],
   "source": [
    "def quantityTakeOff(element):\n",
    "    # Retrieve IFC elements of the specified type\n",
    "    str_elements = model.by_type(str(element))\n",
    "    tot_elements = len(str_elements)\n",
    "    \n",
    "    # Create an empty pandas DataFrame with column titles\n",
    "    columns = ['Floor', 'Volume, m3', 'Area, m2', 'Material']\n",
    "    df = pd.DataFrame(columns=columns)\n",
    "\n",
    "    # Check if the IFC model contains specified structural elements\n",
    "    if len(str_elements) != 0:\n",
    "       # Iterate through elements of the specified type\n",
    "        for str_element in str_elements:\n",
    "            if str_element.IsDefinedBy:\n",
    "                definitions = str_element.IsDefinedBy\n",
    "    \n",
    "                is_load_bearing = False  # Initialize the load-bearing flag\n",
    "    \n",
    "                for definition in definitions:\n",
    "                    # Check if the relationship is of type 'IfcRelDefinesByProperties'\n",
    "                    if definition.is_a('IfcRelDefinesByProperties'):\n",
    "                        property_definition = definition.RelatingPropertyDefinition\n",
    "    \n",
    "                        # Check if the element is load-bearing (assuming 'LoadBearing' property)\n",
    "                        if property_definition.is_a('IfcPropertySet'):\n",
    "                            for property in property_definition.HasProperties:\n",
    "                                if property.Name == 'LoadBearing':\n",
    "                                    # Check if the property value is True\n",
    "                                    if property.NominalValue.wrappedValue == True:\n",
    "                                        is_load_bearing = True  # Set the flag to True and break\n",
    "                                        break  # Exit the property loop once load-bearing is confirmed\n",
    "    \n",
    "                # If the element is load-bearing, proceed to calculate quantities\n",
    "                if is_load_bearing:\n",
    "                    floor_name = str_element.ContainedInStructure[0].RelatingStructure.Name\n",
    "                    \n",
    "                    # Create a dictionary to store data for a DataFrame entry\n",
    "                    element_properties = {\n",
    "                        'Floor': floor_name,\n",
    "                        'Volume': None,\n",
    "                        'Area': None,\n",
    "                        'Material': None\n",
    "                    }\n",
    "    \n",
    "                    for definition in definitions:\n",
    "                        # Check if the relationship is of type 'IfcRelDefinesByProperties'\n",
    "                        if definition.is_a('IfcRelDefinesByProperties'):\n",
    "                            property_definition = definition.RelatingPropertyDefinition\n",
    "    \n",
    "                            if property_definition.is_a('IfcElementQuantity'):\n",
    "                                for quantity in property_definition.Quantities:\n",
    "                                    \n",
    "                                    # Check if the quantity is of type 'IfcQuantityArea'\n",
    "                                    if quantity.is_a('IfcQuantityArea'):\n",
    "                                        \n",
    "                                        # Slab area, m2\n",
    "                                        if quantity.Name == 'NetArea':\n",
    "                                            element_properties['Area, m2'] = quantity.AreaValue\n",
    "                                            \n",
    "                                        # Wall surface area, m2\n",
    "                                        elif quantity.Name == 'NetSideArea':\n",
    "                                            element_properties['Area, m2'] = quantity.AreaValue\n",
    "                                            \n",
    "                                        # Beam surface area, m2\n",
    "                                        elif quantity.Name == 'NetSurfaceArea':\n",
    "                                            element_properties['Area, m2'] = quantity.AreaValue\n",
    "                                            \n",
    "                                    # Check if the quantity is of type 'IfcQuantityVolume' \n",
    "                                    elif quantity.is_a('IfcQuantityVolume'):\n",
    "                                        \n",
    "                                        # Element volume, m3\n",
    "                                        if quantity.Name == 'NetVolume':\n",
    "                                            element_properties['Volume, m3'] = quantity.VolumeValue\n",
    "    \n",
    "                    # Append the data as a new row to the pandas DataFrame\n",
    "                    df = pd.concat([df, pd.DataFrame([element_properties], columns=columns)], ignore_index=True)\n",
    "                    \n",
    "                    # Create a floorwise summary:\n",
    "                    floorwise_sum = df.groupby('Floor')[['Volume, m3', 'Area, m2']].sum()\n",
    "                    \n",
    "                    # Calculate total quantities for the specified element type\n",
    "                    total_volume = df['Volume, m3'].sum()\n",
    "                    total_area = df['Area, m2'].sum()\n",
    "                \n",
    "\n",
    "    return df, tot_elements, floorwise_sum, total_volume, total_area, element"
   ]
  },
  {
   "cell_type": "markdown",
   "id": "ea99f4eb-50bf-47f0-b51b-35d037377552",
   "metadata": {},
   "source": [
    "The `report` function is designed to generate a comprehensive Excel report based on the analysis results. It takes as input the floorwise summary, total quantities, and the name of the IFC model. The function creates a new Excel workbook based on a template, inserts relevant data, and saves the report in the specified output directory. The generated report provides a structured and organized overview of the analyzed structural elements, making it a valuable tool for further analysis and decision-making.\n",
    "\n",
    "As before, for a more detailed walk-through, refer to the comments within the script."
   ]
  },
  {
   "cell_type": "code",
   "execution_count": 36,
   "id": "e9ba7c44-a5d8-48af-adb4-38ded86a83a0",
   "metadata": {
    "tags": []
   },
   "outputs": [],
   "source": [
    "def report(floorwise_summary, tot_quantities, modelname):\n",
    "\n",
    "    # Concatenate floorwise summary results\n",
    "    summary = pd.concat(floorwise_summary, axis=1).round(2)\n",
    "    \n",
    "    # Reset the index to apply numerical indexing and make the \"Floor\" index an actual column\n",
    "    summary.reset_index(level=0, inplace=True)\n",
    "    summary.index += 1  # Add 1 to the index to start indexing from 1\n",
    "\n",
    "    # Rename the columns to distinguish duplicate names\n",
    "    summary.columns = [f'{col} {i}' for i, col in enumerate(summary.columns)]\n",
    "    \n",
    "    # Convert to DataFrame\n",
    "    tot_quantities = pd.DataFrame([tot_quantities])\n",
    "    \n",
    "    # Load template and save a report file\n",
    "    wb_temp = openpyxl.load_workbook('./input/rep_template.xlsx')\n",
    "    wb_temp.save('./output/' + \"report_\" + modelname + '.xlsx')\n",
    "\n",
    "    report_file_path = './output/' + \"report_\" + modelname + '.xlsx'\n",
    "    wb_rep = openpyxl.load_workbook(report_file_path)\n",
    "\n",
    "    # Create space for reported quantities while maintaining template layout\n",
    "    for i in range(1,len(summary)): \n",
    "        wb_rep['Sheet1'].insert_rows(6) # number indicates insertion point\n",
    "    \n",
    "    # Add index column\n",
    "    for i in range(1,len(summary)+1): \n",
    "        wb_rep['Sheet1'].cell(row=5+i, column=2).value = i \n",
    "\n",
    "    # Insert IFC file name\n",
    "    wb_rep['Sheet1'].cell(row=3, column=3).value = modelname + \".ifc\"\n",
    "    wb_rep.save(report_file_path)\n",
    "    \n",
    "    # Create a Pandas ExcelWriter to append data\n",
    "    with pd.ExcelWriter(report_file_path, engine='openpyxl', mode='a', if_sheet_exists='overlay') as writer:\n",
    "\n",
    "        # Write the DataFrame to the Excel file on 'Sheet1'\n",
    "        summary.to_excel(writer, sheet_name='Sheet1', index=False, header=False, startrow=5, startcol=2)\n",
    "        tot_quantities.to_excel(writer, sheet_name='Sheet1', index=False, header=False, startrow=5+len(summary), startcol=3)\n",
    "\n",
    "    # Inform about the completion and storage location\n",
    "    print(\"Report has been exported to an Excel file:\", report_file_path)\n",
    "    \n",
    "    return "
   ]
  },
  {
   "cell_type": "markdown",
   "id": "57dbe231-6c3d-40b7-8a14-62c99de90906",
   "metadata": {},
   "source": [
    "Below is an illustrative output example generated from the 'LLYN - STRU.ifc' file:"
   ]
  },
  {
   "attachments": {
    "05be9d7e-1330-4f76-98e9-17b26ec5de58.png": {
     "image/png": "[encoded data removed]"
    }
   },
   "cell_type": "markdown",
   "id": "45344d82-2f3b-4c93-9215-50d966c102c0",
   "metadata": {},
   "source": [
    "![EXCEL_ZeEwRkgZy3.png](attachment:05be9d7e-1330-4f76-98e9-17b26ec5de58.png)"
   ]
  },
  {
   "cell_type": "markdown",
   "id": "14e556d5-7585-474f-aaae-49c3f53ba10e",
   "metadata": {},
   "source": [
    "Now that we've defined the necessary functions, let's look into the structure of the main parts of the script, beginning with the initial step of loading the file:"
   ]
  },
  {
   "cell_type": "code",
   "execution_count": 38,
   "id": "4678f0d3-88fe-40b6-85bd-1b8aeafaa2f3",
   "metadata": {
    "tags": []
   },
   "outputs": [
    {
     "name": "stdin",
     "output_type": "stream",
     "text": [
      "Enter the IFC model name (or press Enter for default 'LLYN - STRU'):  LLYN - STRU\n"
     ]
    }
   ],
   "source": [
    "# Load the IFC model\n",
    "model, modelname = loadFile() "
   ]
  },
  {
   "cell_type": "markdown",
   "id": "1802e7b6-9a7d-49c8-aad9-e12e8fb58309",
   "metadata": {},
   "source": [
    "The upcoming parts of the script will initiate the generation of an initial written report within Python's console, starting with a floor overview:"
   ]
  },
  {
   "cell_type": "code",
   "execution_count": 39,
   "id": "f3b37d86-ead0-4180-9ebb-2c8b106a9501",
   "metadata": {
    "tags": []
   },
   "outputs": [
    {
     "name": "stdout",
     "output_type": "stream",
     "text": [
      "\n",
      "There are 6 floors in the model: \n",
      "\n",
      "EK_Kælder\n",
      "ES_Stue\n",
      "E1_1. Sal\n",
      "E2_2. Sal\n",
      "E3_3. Sal\n",
      "E4_4. Sal\n"
     ]
    }
   ],
   "source": [
    "# Output a written report within Python's console:  \n",
    "\n",
    "# Collect floor names from the IFC model\n",
    "floorNames = []\n",
    "\n",
    "for entity in model.by_type('IfcBuildingStorey'):\n",
    "    floorNames.append(entity.Name)\n",
    "\n",
    "print('\\nThere are', len(floorNames), 'floors in the model: \\n')\n",
    "\n",
    "# Print the names of each floor\n",
    "for floor in floorNames:\n",
    "    print(floor)"
   ]
  },
  {
   "cell_type": "markdown",
   "id": "40640d17-972e-48d0-8c88-970e1d47b793",
   "metadata": {},
   "source": [
    "For this tool, our primary focus is on common types of structural elements, including Columns, Walls, Beams, and Slabs. Subsequently, we define the Ifc elements accordingly for further iterations."
   ]
  },
  {
   "cell_type": "code",
   "execution_count": 40,
   "id": "94385eef-51d9-44c0-a2b8-ef9a32dafee9",
   "metadata": {
    "tags": []
   },
   "outputs": [],
   "source": [
    "# List of structural element types to be reported\n",
    "elements = ['IfcColumn', 'IfcWall', 'IfcBeam', 'IfcSlab']"
   ]
  },
  {
   "cell_type": "markdown",
   "id": "0ae993b6-bebf-4bcc-a737-7924f3b5239c",
   "metadata": {},
   "source": [
    "To store the results obtained for each story, we initialize lists for each type of result:"
   ]
  },
  {
   "cell_type": "code",
   "execution_count": 41,
   "id": "548a01dc-915a-4db2-bebf-45d56227f736",
   "metadata": {
    "tags": []
   },
   "outputs": [],
   "source": [
    "# Initialize lists for result storage:\n",
    "element_summary = []        # list of DataFrames for each element\n",
    "floorwise_summary = []      # list of DataFrames for floorwise summaries\n",
    "tot_quantities = []         # total quantities by element type"
   ]
  },
  {
   "cell_type": "markdown",
   "id": "9bc87a05-fd6b-4d21-a74d-9974f7ab0d45",
   "metadata": {},
   "source": [
    "Subsequently, we iterate through each type of structural element, as defined in the previous steps, and report the results in Python's console."
   ]
  },
  {
   "cell_type": "code",
   "execution_count": 42,
   "id": "91d170b5-193d-4ac6-853e-0acd5fd6d0b6",
   "metadata": {
    "tags": []
   },
   "outputs": [
    {
     "name": "stdout",
     "output_type": "stream",
     "text": [
      "________________________________________________________________\n",
      "\n",
      "Out of 452 IfcColumn elements 452 are load bearing (structural).\n",
      "\n",
      "Floorwise summary for IfcColumn  elements: \n",
      "\n",
      "           Volume, m3  Area, m2\n",
      "Floor                          \n",
      "E1_1. Sal      13.502   217.030\n",
      "E2_2. Sal       4.217   148.919\n",
      "E3_3. Sal       0.099    66.136\n",
      "ES_Stue        11.818   134.584 \n",
      "\n",
      "Total material quantities for IfcColumn elements:\n",
      "Volume:  29.64 m3\n",
      "Surface Area:  566.67 m2\n",
      "________________________________________________________________\n",
      "\n",
      "Out of 378 IfcWall elements 368 are load bearing (structural).\n",
      "\n",
      "Floorwise summary for IfcWall  elements: \n",
      "\n",
      "           Volume, m3  Area, m2\n",
      "Floor                          \n",
      "E1_1. Sal     162.047   794.433\n",
      "E2_2. Sal      76.386   388.835\n",
      "E3_3. Sal      24.217   121.091\n",
      "E4_4. Sal       0.152     0.752\n",
      "EK_Kælder     353.015   639.160\n",
      "ES_Stue       216.455   853.606 \n",
      "\n",
      "Total material quantities for IfcWall elements:\n",
      "Volume:  832.27 m3\n",
      "Surface Area:  2797.88 m2\n",
      "________________________________________________________________\n",
      "\n",
      "Out of 565 IfcBeam elements 565 are load bearing (structural).\n",
      "\n",
      "Floorwise summary for IfcBeam  elements: \n",
      "\n",
      "           Volume, m3  Area, m2\n",
      "Floor                          \n",
      "E1_1. Sal       1.810   218.932\n",
      "E2_2. Sal       8.732  1203.143\n",
      "E3_3. Sal       1.564   203.014\n",
      "E4_4. Sal       1.966   378.518\n",
      "ES_Stue         0.037     5.404 \n",
      "\n",
      "Total material quantities for IfcBeam elements:\n",
      "Volume:  14.11 m3\n",
      "Surface Area:  2009.01 m2\n",
      "________________________________________________________________\n",
      "\n",
      "Out of 387 IfcSlab elements 365 are load bearing (structural).\n",
      "\n",
      "Floorwise summary for IfcSlab  elements: \n",
      "\n",
      "           Volume, m3  Area, m2\n",
      "Floor                          \n",
      "E1_1. Sal     294.816  1688.846\n",
      "E2_2. Sal     299.728  1402.171\n",
      "E3_3. Sal     111.348   835.857\n",
      "E4_4. Sal      77.148   430.976\n",
      "EK_Kælder       3.833    13.630\n",
      "ES_Stue       568.686  2452.462 \n",
      "\n",
      "Total material quantities for IfcSlab elements:\n",
      "Volume:  1355.56 m3\n",
      "Surface Area:  6823.94 m2\n"
     ]
    }
   ],
   "source": [
    "# Process each structural element type\n",
    "for element in elements:\n",
    "    element_quantities, tot_elements, floorwise_sum, total_volume, total_area , element = quantityTakeOff(element)\n",
    "    \n",
    "    # Add results to the lists\n",
    "    element_summary.append(element_quantities)\n",
    "    floorwise_summary.append(floorwise_sum)\n",
    "    tot_quantities.append(total_volume)\n",
    "    tot_quantities.append(total_area)\n",
    "    \n",
    "    # Print a report in Python's console\n",
    "    print('________________________________________________________________')\n",
    "    print('\\nOut of', tot_elements, element, 'elements', len(element_quantities), 'are load bearing (structural).')\n",
    "    print('\\nFloorwise summary for', element,' elements: \\n')\n",
    "    print(floorwise_sum, '\\n')\n",
    "    print('Total material quantities for', element, 'elements:')\n",
    "    print('Volume: ', round(total_volume,2), 'm3')\n",
    "    print('Surface Area: ', round(total_area,2), 'm2')"
   ]
  },
  {
   "cell_type": "markdown",
   "id": "a6a54652-7daa-4ad0-8c9c-084154446f6f",
   "metadata": {},
   "source": [
    "Upon completion of the script's analysis, you will be promted to generate an Excel workbook report, as presented at the beginning. Once a selection is made, the tool has finished its operation."
   ]
  },
  {
   "cell_type": "code",
   "execution_count": 43,
   "id": "24231c8c-b726-42ed-b885-4c1900822341",
   "metadata": {
    "tags": []
   },
   "outputs": [
    {
     "name": "stdin",
     "output_type": "stream",
     "text": [
      "\n",
      "Do you want to generate a spreadsheet report? (Enter 'y' for Yes, 'n' for No):  y\n"
     ]
    },
    {
     "name": "stdout",
     "output_type": "stream",
     "text": [
      "Report has been exported to an Excel file: ./output/report_LLYN - STRU.xlsx\n"
     ]
    }
   ],
   "source": [
    "# Generate a spreadsheet report\n",
    "while True: \n",
    "    prompt = input(\"\\nDo you want to generate a spreadsheet report? (Enter 'y' for Yes, 'n' for No): \")\n",
    "    \n",
    "    if prompt == 'y':   \n",
    "        report(floorwise_summary, tot_quantities, modelname)\n",
    "        break\n",
    "    elif prompt == 'n':\n",
    "        print(\"Exiting without generating a report.\")\n",
    "        break\n",
    "    else:\n",
    "        print(\"Invalid input. Please enter 'y' or 'n'.\")  "
   ]
  },
  {
   "cell_type": "code",
   "execution_count": null,
   "id": "200814a5-706b-40ce-a3cb-0dc25b9a0b5c",
   "metadata": {},
   "outputs": [],
   "source": []
  }
 ],
 "metadata": {
  "kernelspec": {
   "display_name": "Python 3 (ipykernel)",
   "language": "python",
   "name": "python3"
  },
  "language_info": {
   "codemirror_mode": {
    "name": "ipython",
    "version": 3
   },
   "file_extension": ".py",
   "mimetype": "text/x-python",
   "name": "python",
   "nbconvert_exporter": "python",
   "pygments_lexer": "ipython3",
   "version": "3.11.4"
  }
 },
 "nbformat": 4,
 "nbformat_minor": 5
}
